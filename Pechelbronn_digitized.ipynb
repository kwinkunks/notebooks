{
 "cells": [
  {
   "cell_type": "markdown",
   "metadata": {},
   "source": [
    "# Digitizing the Pechelbronn log\n",
    "\n",
    "[Original image](http://indico.ictp.it/event/a10175/session/25/contribution/15/material/0/0.pdf)\n",
    "\n",
    "Steps:\n",
    "\n",
    "- Import into Inkscape\n",
    "- Digitize with a line\n",
    "- Perform the steps in this notebook"
   ]
  },
  {
   "cell_type": "code",
   "execution_count": 1,
   "metadata": {
    "collapsed": true
   },
   "outputs": [],
   "source": [
    "import numpy as np\n",
    "import matplotlib.pyplot as plt"
   ]
  },
  {
   "cell_type": "code",
   "execution_count": 4,
   "metadata": {
    "collapsed": true
   },
   "outputs": [],
   "source": [
    "fname = '../../Agile/Blog-and-wiki/Pechelbronn_log.svg'"
   ]
  },
  {
   "cell_type": "code",
   "execution_count": 5,
   "metadata": {},
   "outputs": [],
   "source": [
    "from bs4 import BeautifulSoup\n",
    "\n",
    "with open(fname) as f:\n",
    "    soup = BeautifulSoup(f, 'lxml')"
   ]
  },
  {
   "cell_type": "code",
   "execution_count": 7,
   "metadata": {
    "collapsed": true
   },
   "outputs": [],
   "source": [
    "p = soup.find_all('path')"
   ]
  },
  {
   "cell_type": "code",
   "execution_count": 8,
   "metadata": {},
   "outputs": [
    {
     "data": {
      "text/plain": [
       "[<path d=\"m 199.78713,695.03403 -6.66931,4.82268 -4.29366,1.93751 -6.30258,6.55896 1.4799,13.31914 -4.43971,5.91962 1.97321,10.85263 0,6.90622 3.94641,9.37273 -3.94641,7.39953 1.9732,11.83923 1.97321,7.89283 -4.43972,6.41292 -0.4933,10.35933 5.42632,8.38613 -0.4933,9.86603 -0.98661,8.87943 -0.4933,8.38612 5.42632,8.38613 -0.9866,8.38613 0,7.89282 1.9732,8.87943 -3.45311,8.38613 0.98661,7.89282 12.33253,6.90622 13.62131,9.39493 52.52552,8.38613 15.74123,9.84383 -53.76987,8.38613 -8.38612,6.41292 16.08781,10.63929 15.5279,8.19499 -15.03067,4.15975 -22.01136,6.11076 -20.22536,7.39952 17.26555,8.87943 7.89283,8.38613 5.02184,8.28381 -3.54194,9.96833 -14.79905,10.3593 1.97321,7.8929 8.87943,7.3995 20.71866,8.8794 6.90623,9.3728 -45.87705,6.4129 22.19857,8.8794 32.0646,9.866 87.80768,5.9197 -33.45568,10.1238 -11.43476,8.7104 -40.10415,8.8572 20.86539,8.8129 -14.79905,8.3861 -34.03781,9.3727 -16.44788,16.5812 10.10158,7.635 8.06176,9.3505 -35.00221,8.2173 -13.03918,8.3639 15.5279,8.8794 13.6213,7.915 19.14994,10.5061 2.51092,7.8349 -7.65728,8.7906 -11.06598,8.8573 -5.49293,7.9594 -0.94219,8.666 -18.50991,9.7994 5.14635,10.2484 10.6615,5.3906 -13.55469,9.0261 -4.50633,8.6662 26.40274,8.4305 0.81767,8.5994 -28.93586,8.9238 -1.88438,8.7019 -2.93761,8.1863 1.64884,9.2394 4.36438,6.0664 10.73768,12.3682 -7.06525,6.9768 -3.76877,8.9508 -4.00431,8.2442 -2.35549,9.1864 2.35549,8.7152 0.23554,4.4755 -2.11993,3.5332 6.59535,9.6575 6.12425,8.9508 -0.23555,8.0086 21.19933,8.4797 -0.4711,8.4798 -9.65747,9.1863 0,7.0665 -10.12857,9.4219 0.23555,11.3063 -3.76877,7.7731 -4.47541,7.7731 -1.41329,8.4797 3.53322,10.1286 0.94219,8.2442 -3.29767,8.0086 -2.35548,8.9508 0.70664,8.0087 0.94219,8.2442 1.64884,9.1863 0.23555,8.9509 -3.53322,8.7152 -0.4711,9.1864 0.23555,8.2442 -0.23555,8.9508 0.4711,8.7153 -0.23555,8.0086 0,8.9509 1.17774,8.7152 -1.17774,8.4798 1.17774,9.1863 -1.17774,8.0087 -1.64884,9.893 1.41329,7.302 0.4711,8.7153 -1.17774,7.7731 1.41329,8.2441 1.17774,9.422 0.70664,4.0043 -0.94219,4.7109 0.70664,3.7688 -0.47109,8.2442 -0.9422,5.182 0,10.1286 -0.47109,8.0087 -0.4711,8.7152 -0.23555,8.2442 -0.47109,9.1864 -0.23555,7.7731 -0.23555,8.4797 -0.23555,9.4219 0.23555,9.1864 0.23555,8.7153 0.23555,8.7153 0.70664,8.7152 0.70665,8.2442 9.18637,9.6575 -1.64884,8.4797 -5.8887,8.0087\" id=\"path4236\" inkscape:connector-curvature=\"0\" sodipodi:nodetypes=\"ccccccccccccccccccccccccccccccccccccccccccccccccccccccccccccccccccccccccccccccccccccccccccccccccccccccccccccccccccccccccccccccccccccccccccccccccc\" style=\"fill:none;fill-rule:evenodd;stroke:#f60000;stroke-width:3;stroke-linecap:butt;stroke-linejoin:miter;stroke-miterlimit:4;stroke-dasharray:none;stroke-opacity:0.4979424\"></path>,\n",
       " <path d=\"m 125.26224,1363.0782 43.90383,0 44.01293,0 c 0,0 28.56301,0 42.84451,0 14.96348,0 44.20503,0 44.20503,0\" id=\"path4238\" inkscape:connector-curvature=\"0\" sodipodi:nodetypes=\"cccsc\" style=\"fill:none;fill-rule:evenodd;stroke:#000000;stroke-width:1px;stroke-linecap:butt;stroke-linejoin:miter;stroke-opacity:1\"></path>,\n",
       " <path d=\"m 163.9462,1124.1085 0,43.9038 0,43.9039 0,42.3045 0,43.2549 0,43.5196\" id=\"path4240\" inkscape:connector-curvature=\"0\" sodipodi:nodetypes=\"cccccc\" style=\"fill:none;fill-rule:evenodd;stroke:#000000;stroke-width:1px;stroke-linecap:butt;stroke-linejoin:miter;stroke-opacity:1\"></path>]"
      ]
     },
     "execution_count": 8,
     "metadata": {},
     "output_type": "execute_result"
    }
   ],
   "source": [
    "p"
   ]
  },
  {
   "cell_type": "code",
   "execution_count": 14,
   "metadata": {},
   "outputs": [],
   "source": [
    "pairs = p[0]['d'][2:].split()"
   ]
  },
  {
   "cell_type": "code",
   "execution_count": 57,
   "metadata": {},
   "outputs": [],
   "source": [
    "coords = np.array([[float(z) for z in pairs[0].split(',')]])\n",
    "for p in pairs[1:]:\n",
    "    point = np.array([float(z) for z in p.split(',')]) * np.array([1, -1])\n",
    "    coords = np.vstack([coords, coords[-1] + point])"
   ]
  },
  {
   "cell_type": "code",
   "execution_count": 120,
   "metadata": {},
   "outputs": [],
   "source": [
    "c = coords - np.array([0, coords[0,1]])\n",
    "c = c * np.array([1, -140/1209.22377])\n",
    "coords = c + np.array([0, 139])"
   ]
  },
  {
   "cell_type": "code",
   "execution_count": 221,
   "metadata": {},
   "outputs": [],
   "source": [
    "d = np.arange(139, 279+1)"
   ]
  },
  {
   "cell_type": "code",
   "execution_count": 222,
   "metadata": {},
   "outputs": [],
   "source": [
    "r = np.interp(d, coords[:,1], coords[:,0])\n",
    "r = r - np.min(r)\n",
    "r = r / np.max(r)\n",
    "res = 18 * r + 2"
   ]
  },
  {
   "cell_type": "code",
   "execution_count": 223,
   "metadata": {
    "collapsed": true
   },
   "outputs": [],
   "source": [
    "import seaborn"
   ]
  },
  {
   "cell_type": "code",
   "execution_count": 224,
   "metadata": {},
   "outputs": [
    {
     "data": {
      "image/png": "[encoded data removed]",
      "text/plain": [
       "<matplotlib.figure.Figure at 0x11b9e0588>"
      ]
     },
     "metadata": {},
     "output_type": "display_data"
    }
   ],
   "source": [
    "fig = plt.figure(figsize=(3, 7))\n",
    "\n",
    "ax = fig.add_subplot(111)\n",
    "ax.semilogx(res, d)\n",
    "ax.set_title(\"Diefenbach No. 2905\", size=16)\n",
    "ax.set_xlabel(\"Resistivity [ohm.m]\", size=12)\n",
    "ax.set_ylabel(\"MD [m]\", size=12)\n",
    "ax.set_ylim([130, 290])\n",
    "ax.grid('on')\n",
    "ax.invert_yaxis()\n",
    "\n",
    "plt.savefig(\"../../Agile/Blog-and-wiki/Pechelbronn_log_plot.png\", dpi=180)\n",
    "plt.show()"
   ]
  },
  {
   "cell_type": "code",
   "execution_count": 225,
   "metadata": {},
   "outputs": [
    {
     "data": {
      "text/plain": [
       "array([  4.3887391 ,   2.85342702,   2.36525565,   2.48066798,\n",
       "         2.        ,   2.18885754,   2.27006814,   2.61885075,\n",
       "         2.23403111,   2.40714968,   2.65487833,   2.12425697,\n",
       "         2.07934099,   2.72583211,   2.67389656,   2.56526731,\n",
       "         2.49683948,   3.09135723,   3.03011393,   3.03318389,\n",
       "         3.25709305,   2.85145655,   3.19826338,   4.93931234,\n",
       "         7.63768533,  12.84723576,  13.4441711 ,   7.61632686,\n",
       "         7.47204332,   9.11532458,   9.74513338,   6.04116772,\n",
       "         4.11616955,   5.96903893,   6.88082902,   7.28068721,\n",
       "         6.82686744,   5.34298518,   5.38759582,   6.72234221,\n",
       "         9.01647038,   9.78183381,   4.92059263,   7.69070133,\n",
       "        12.031705  ,  20.        ,  17.02828857,  14.94904794,\n",
       "        11.5984186 ,  13.33439299,  11.11820116,   7.65433754,\n",
       "         6.62397517,   6.05706875,   7.28353051,   6.97565123,\n",
       "         3.32212242,   2.75582161,   4.56423536,   6.3900945 ,\n",
       "         8.05600943,   8.09354961,   7.10195983,   5.91774249,\n",
       "         5.3663145 ,   4.75306657,   3.12891264,   3.65051467,\n",
       "         4.45141283,   3.17747649,   3.68823312,   5.99188626,\n",
       "         5.03195508,   2.51946686,   2.25540659,   2.05955927,\n",
       "         2.38385499,   3.21532338,   3.89645149,   3.03211717,\n",
       "         2.57670297,   2.14707246,   2.01796229,   2.24403087,\n",
       "         2.22736208,   2.93698883,   3.52894838,   4.11051929,\n",
       "         6.04042682,   5.70401696,   4.83687322,   4.40388255,\n",
       "         3.62524774,   3.64688781,   3.1413042 ,   2.62315988,\n",
       "         2.56049729,   2.91464527,   2.99011071,   2.58585575,\n",
       "         2.35471636,   2.45146478,   2.58601801,   2.7453495 ,\n",
       "         2.71256502,   2.33745734,   2.28928865,   2.31286674,\n",
       "         2.29143342,   2.34223435,   2.31579123,   2.32956804,\n",
       "         2.44456665,   2.33008918,   2.4507335 ,   2.29560801,\n",
       "         2.1224883 ,   2.29452776,   2.32574011,   2.2410949 ,\n",
       "         2.40650898,   2.54551659,   2.51739781,   2.52763172,\n",
       "         2.40077101,   2.40077101,   2.34008511,   2.28560009,\n",
       "         2.25336707,   2.20107574,   2.16997917,   2.14159615,\n",
       "         2.11942701,   2.1460733 ,   2.17414682,   2.20222033,\n",
       "         2.2859124 ,   2.39920866,   3.38725027,   3.29359996,   2.57073177])"
      ]
     },
     "execution_count": 225,
     "metadata": {},
     "output_type": "execute_result"
    }
   ],
   "source": [
    "res"
   ]
  },
  {
   "cell_type": "code",
   "execution_count": 227,
   "metadata": {},
   "outputs": [
    {
     "ename": "KeyError",
     "evalue": "'>'",
     "output_type": "error",
     "traceback": [
      "\u001b[0;31m---------------------------------------------------------------------------\u001b[0m",
      "\u001b[0;31mKeyError\u001b[0m                                  Traceback (most recent call last)",
      "\u001b[0;32m<ipython-input-227-cfcf7f65c24a>\u001b[0m in \u001b[0;36m<module>\u001b[0;34m()\u001b[0m\n\u001b[1;32m      1\u001b[0m \u001b[0;32mfor\u001b[0m \u001b[0mx\u001b[0m\u001b[0;34m,\u001b[0m \u001b[0mr\u001b[0m \u001b[0;32min\u001b[0m \u001b[0mzip\u001b[0m\u001b[0;34m(\u001b[0m\u001b[0md\u001b[0m\u001b[0;34m,\u001b[0m \u001b[0mres\u001b[0m\u001b[0;34m)\u001b[0m\u001b[0;34m:\u001b[0m\u001b[0;34m\u001b[0m\u001b[0m\n\u001b[0;32m----> 2\u001b[0;31m     \u001b[0mprint\u001b[0m\u001b[0;34m(\u001b[0m\u001b[0;34m\"{:.1f}  {>:.3f}\"\u001b[0m\u001b[0;34m.\u001b[0m\u001b[0mformat\u001b[0m\u001b[0;34m(\u001b[0m\u001b[0mx\u001b[0m\u001b[0;34m,\u001b[0m \u001b[0mr\u001b[0m\u001b[0;34m)\u001b[0m\u001b[0;34m)\u001b[0m\u001b[0;34m\u001b[0m\u001b[0m\n\u001b[0m",
      "\u001b[0;31mKeyError\u001b[0m: '>'"
     ]
    }
   ],
   "source": [
    "for x, r in zip(d, res):\n",
    "    print(\"{:.1f}  {:.3f}\".format(x, r))"
   ]
  },
  {
   "cell_type": "code",
   "execution_count": null,
   "metadata": {
    "collapsed": true
   },
   "outputs": [],
   "source": []
  }
 ],
 "metadata": {
  "kernelspec": {
   "display_name": "py38",
   "language": "python",
   "name": "py38"
  },
  "language_info": {
   "codemirror_mode": {
    "name": "ipython",
    "version": 3
   },
   "file_extension": ".py",
   "mimetype": "text/x-python",
   "name": "python",
   "nbconvert_exporter": "python",
   "pygments_lexer": "ipython3",
   "version": "3.8.5"
  }
 },
 "nbformat": 4,
 "nbformat_minor": 1
}
